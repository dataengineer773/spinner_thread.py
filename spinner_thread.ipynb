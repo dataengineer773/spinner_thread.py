{
 "cells": [
  {
   "cell_type": "code",
   "execution_count": 1,
   "id": "506eccaa-aa77-4811-b70c-74058a68e9fb",
   "metadata": {},
   "outputs": [],
   "source": [
    "def supervisor() -> int:\n",
    "    done = Event()\n",
    "    spinner = Thread(target=spin, args=('thinking!', done))\n",
    "    print(f'spinner object: {spinner}')\n",
    "    spinner.start()\n",
    "    result = slow\n",
    "    done.set()\n",
    "    spinner.join()\n",
    "    return result\n",
    "\n",
    "def main() -> None:\n",
    "    result = supervisor()\n",
    "    print(f'Asnwer : {result}')\n",
    "\n",
    "if __name__ == 'main__':\n",
    "    main()"
   ]
  },
  {
   "cell_type": "code",
   "execution_count": null,
   "id": "44f78c2c-b8dd-4e54-a5fb-229207b7fced",
   "metadata": {},
   "outputs": [],
   "source": []
  }
 ],
 "metadata": {
  "kernelspec": {
   "display_name": "Python 3 (ipykernel)",
   "language": "python",
   "name": "python3"
  },
  "language_info": {
   "codemirror_mode": {
    "name": "ipython",
    "version": 3
   },
   "file_extension": ".py",
   "mimetype": "text/x-python",
   "name": "python",
   "nbconvert_exporter": "python",
   "pygments_lexer": "ipython3",
   "version": "3.12.3"
  }
 },
 "nbformat": 4,
 "nbformat_minor": 5
}
